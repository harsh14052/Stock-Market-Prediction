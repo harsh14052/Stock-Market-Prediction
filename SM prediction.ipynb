{
 "cells": [
  {
   "cell_type": "code",
   "execution_count": 1,
   "id": "29f61aab",
   "metadata": {},
   "outputs": [],
   "source": [
    "import pandas_datareader as pdr"
   ]
  },
  {
   "cell_type": "code",
   "execution_count": 2,
   "id": "6557985b",
   "metadata": {},
   "outputs": [],
   "source": [
    "import pandas_datareader as pdr"
   ]
  },
  {
   "cell_type": "code",
   "execution_count": 3,
   "id": "ac70e71e",
   "metadata": {},
   "outputs": [
    {
     "name": "stdout",
     "output_type": "stream",
     "text": [
      "Requirement already satisfied: pandas_datareader in f:\\anaconda\\lib\\site-packages (0.10.0)\n",
      "Requirement already satisfied: requests>=2.19.0 in f:\\anaconda\\lib\\site-packages (from pandas_datareader) (2.25.1)\n",
      "Requirement already satisfied: lxml in f:\\anaconda\\lib\\site-packages (from pandas_datareader) (4.6.3)\n",
      "Requirement already satisfied: pandas>=0.23 in f:\\anaconda\\lib\\site-packages (from pandas_datareader) (1.2.4)\n",
      "Requirement already satisfied: pytz>=2017.3 in f:\\anaconda\\lib\\site-packages (from pandas>=0.23->pandas_datareader) (2021.1)\n",
      "Requirement already satisfied: numpy>=1.16.5 in f:\\anaconda\\lib\\site-packages (from pandas>=0.23->pandas_datareader) (1.20.1)\n",
      "Requirement already satisfied: python-dateutil>=2.7.3 in f:\\anaconda\\lib\\site-packages (from pandas>=0.23->pandas_datareader) (2.8.1)\n",
      "Requirement already satisfied: six>=1.5 in f:\\anaconda\\lib\\site-packages (from python-dateutil>=2.7.3->pandas>=0.23->pandas_datareader) (1.15.0)\n",
      "Requirement already satisfied: urllib3<1.27,>=1.21.1 in f:\\anaconda\\lib\\site-packages (from requests>=2.19.0->pandas_datareader) (1.26.4)\n",
      "Requirement already satisfied: idna<3,>=2.5 in f:\\anaconda\\lib\\site-packages (from requests>=2.19.0->pandas_datareader) (2.10)\n",
      "Requirement already satisfied: certifi>=2017.4.17 in f:\\anaconda\\lib\\site-packages (from requests>=2.19.0->pandas_datareader) (2020.12.5)\n",
      "Requirement already satisfied: chardet<5,>=3.0.2 in f:\\anaconda\\lib\\site-packages (from requests>=2.19.0->pandas_datareader) (4.0.0)\n"
     ]
    }
   ],
   "source": [
    "!pip install pandas_datareader"
   ]
  },
  {
   "cell_type": "code",
   "execution_count": 4,
   "id": "90903be0",
   "metadata": {},
   "outputs": [],
   "source": [
    "import pandas_datareader as pdr"
   ]
  },
  {
   "cell_type": "code",
   "execution_count": 5,
   "id": "1675a068",
   "metadata": {},
   "outputs": [],
   "source": [
    "df = pdr.get_data_tiingo('AAPL', api_key=\"b137ccf0a89acb6573646270ed7bfa1465d639bf\")"
   ]
  },
  {
   "cell_type": "code",
   "execution_count": 6,
   "id": "df1a63f8",
   "metadata": {},
   "outputs": [],
   "source": [
    "df.to_csv('AAPL.csv')"
   ]
  },
  {
   "cell_type": "code",
   "execution_count": 7,
   "id": "91428880",
   "metadata": {},
   "outputs": [],
   "source": [
    "import pandas as pd"
   ]
  },
  {
   "cell_type": "code",
   "execution_count": 8,
   "id": "8f630872",
   "metadata": {},
   "outputs": [],
   "source": [
    "df=pd.read_csv('AAPL.csv')"
   ]
  },
  {
   "cell_type": "code",
   "execution_count": 9,
   "id": "f2012e26",
   "metadata": {},
   "outputs": [
    {
     "data": {
      "text/html": [
       "<div>\n",
       "<style scoped>\n",
       "    .dataframe tbody tr th:only-of-type {\n",
       "        vertical-align: middle;\n",
       "    }\n",
       "\n",
       "    .dataframe tbody tr th {\n",
       "        vertical-align: top;\n",
       "    }\n",
       "\n",
       "    .dataframe thead th {\n",
       "        text-align: right;\n",
       "    }\n",
       "</style>\n",
       "<table border=\"1\" class=\"dataframe\">\n",
       "  <thead>\n",
       "    <tr style=\"text-align: right;\">\n",
       "      <th></th>\n",
       "      <th>symbol</th>\n",
       "      <th>date</th>\n",
       "      <th>close</th>\n",
       "      <th>high</th>\n",
       "      <th>low</th>\n",
       "      <th>open</th>\n",
       "      <th>volume</th>\n",
       "      <th>adjClose</th>\n",
       "      <th>adjHigh</th>\n",
       "      <th>adjLow</th>\n",
       "      <th>adjOpen</th>\n",
       "      <th>adjVolume</th>\n",
       "      <th>divCash</th>\n",
       "      <th>splitFactor</th>\n",
       "    </tr>\n",
       "  </thead>\n",
       "  <tbody>\n",
       "    <tr>\n",
       "      <th>0</th>\n",
       "      <td>AAPL</td>\n",
       "      <td>2018-03-26 00:00:00+00:00</td>\n",
       "      <td>172.77</td>\n",
       "      <td>173.10</td>\n",
       "      <td>166.44</td>\n",
       "      <td>168.07</td>\n",
       "      <td>36272617</td>\n",
       "      <td>41.120572</td>\n",
       "      <td>41.199114</td>\n",
       "      <td>39.613984</td>\n",
       "      <td>40.001936</td>\n",
       "      <td>145090468</td>\n",
       "      <td>0.0</td>\n",
       "      <td>1.0</td>\n",
       "    </tr>\n",
       "    <tr>\n",
       "      <th>1</th>\n",
       "      <td>AAPL</td>\n",
       "      <td>2018-03-27 00:00:00+00:00</td>\n",
       "      <td>168.34</td>\n",
       "      <td>175.15</td>\n",
       "      <td>166.92</td>\n",
       "      <td>173.68</td>\n",
       "      <td>38962839</td>\n",
       "      <td>40.066198</td>\n",
       "      <td>41.687030</td>\n",
       "      <td>39.728227</td>\n",
       "      <td>41.337159</td>\n",
       "      <td>155851356</td>\n",
       "      <td>0.0</td>\n",
       "      <td>1.0</td>\n",
       "    </tr>\n",
       "    <tr>\n",
       "      <th>2</th>\n",
       "      <td>AAPL</td>\n",
       "      <td>2018-03-28 00:00:00+00:00</td>\n",
       "      <td>166.48</td>\n",
       "      <td>170.02</td>\n",
       "      <td>165.19</td>\n",
       "      <td>167.25</td>\n",
       "      <td>41668545</td>\n",
       "      <td>39.623504</td>\n",
       "      <td>40.466051</td>\n",
       "      <td>39.316474</td>\n",
       "      <td>39.806770</td>\n",
       "      <td>166674180</td>\n",
       "      <td>0.0</td>\n",
       "      <td>1.0</td>\n",
       "    </tr>\n",
       "    <tr>\n",
       "      <th>3</th>\n",
       "      <td>AAPL</td>\n",
       "      <td>2018-03-29 00:00:00+00:00</td>\n",
       "      <td>167.78</td>\n",
       "      <td>171.75</td>\n",
       "      <td>166.90</td>\n",
       "      <td>167.81</td>\n",
       "      <td>38398505</td>\n",
       "      <td>39.932914</td>\n",
       "      <td>40.877804</td>\n",
       "      <td>39.723467</td>\n",
       "      <td>39.940054</td>\n",
       "      <td>153594020</td>\n",
       "      <td>0.0</td>\n",
       "      <td>1.0</td>\n",
       "    </tr>\n",
       "    <tr>\n",
       "      <th>4</th>\n",
       "      <td>AAPL</td>\n",
       "      <td>2018-04-02 00:00:00+00:00</td>\n",
       "      <td>166.68</td>\n",
       "      <td>168.94</td>\n",
       "      <td>164.47</td>\n",
       "      <td>166.64</td>\n",
       "      <td>37586791</td>\n",
       "      <td>39.671106</td>\n",
       "      <td>40.209003</td>\n",
       "      <td>39.145109</td>\n",
       "      <td>39.661585</td>\n",
       "      <td>150347164</td>\n",
       "      <td>0.0</td>\n",
       "      <td>1.0</td>\n",
       "    </tr>\n",
       "  </tbody>\n",
       "</table>\n",
       "</div>"
      ],
      "text/plain": [
       "  symbol                       date   close    high     low    open    volume  \\\n",
       "0   AAPL  2018-03-26 00:00:00+00:00  172.77  173.10  166.44  168.07  36272617   \n",
       "1   AAPL  2018-03-27 00:00:00+00:00  168.34  175.15  166.92  173.68  38962839   \n",
       "2   AAPL  2018-03-28 00:00:00+00:00  166.48  170.02  165.19  167.25  41668545   \n",
       "3   AAPL  2018-03-29 00:00:00+00:00  167.78  171.75  166.90  167.81  38398505   \n",
       "4   AAPL  2018-04-02 00:00:00+00:00  166.68  168.94  164.47  166.64  37586791   \n",
       "\n",
       "    adjClose    adjHigh     adjLow    adjOpen  adjVolume  divCash  splitFactor  \n",
       "0  41.120572  41.199114  39.613984  40.001936  145090468      0.0          1.0  \n",
       "1  40.066198  41.687030  39.728227  41.337159  155851356      0.0          1.0  \n",
       "2  39.623504  40.466051  39.316474  39.806770  166674180      0.0          1.0  \n",
       "3  39.932914  40.877804  39.723467  39.940054  153594020      0.0          1.0  \n",
       "4  39.671106  40.209003  39.145109  39.661585  150347164      0.0          1.0  "
      ]
     },
     "execution_count": 9,
     "metadata": {},
     "output_type": "execute_result"
    }
   ],
   "source": [
    "df.head()"
   ]
  },
  {
   "cell_type": "code",
   "execution_count": 10,
   "id": "fabaea84",
   "metadata": {},
   "outputs": [],
   "source": [
    "df1=df.reset_index()['close']"
   ]
  },
  {
   "cell_type": "code",
   "execution_count": 11,
   "id": "d195aaa6",
   "metadata": {},
   "outputs": [
    {
     "data": {
      "text/plain": [
       "0       172.77\n",
       "1       168.34\n",
       "2       166.48\n",
       "3       167.78\n",
       "4       166.68\n",
       "         ...  \n",
       "1251    152.99\n",
       "1252    155.85\n",
       "1253    155.00\n",
       "1254    157.40\n",
       "1255    159.28\n",
       "Name: close, Length: 1256, dtype: float64"
      ]
     },
     "execution_count": 11,
     "metadata": {},
     "output_type": "execute_result"
    }
   ],
   "source": [
    "df1"
   ]
  },
  {
   "cell_type": "code",
   "execution_count": 12,
   "id": "f6c5bec6",
   "metadata": {},
   "outputs": [
    {
     "data": {
      "text/plain": [
       "[<matplotlib.lines.Line2D at 0x282be77db20>]"
      ]
     },
     "execution_count": 12,
     "metadata": {},
     "output_type": "execute_result"
    },
    {
     "data": {
      "image/png": "[encoded data removed]",
      "text/plain": [
       "<Figure size 432x288 with 1 Axes>"
      ]
     },
     "metadata": {
      "needs_background": "light"
     },
     "output_type": "display_data"
    }
   ],
   "source": [
    "import matplotlib.pyplot as plt\n",
    "plt.plot(df1)"
   ]
  },
  {
   "cell_type": "code",
   "execution_count": 13,
   "id": "b1af13c5",
   "metadata": {},
   "outputs": [],
   "source": [
    "### LSTM are sensitive to scale of the data. So, we apply MinMax scaler"
   ]
  },
  {
   "cell_type": "code",
   "execution_count": 14,
   "id": "527f41b6",
   "metadata": {},
   "outputs": [],
   "source": [
    "import numpy as np"
   ]
  },
  {
   "cell_type": "code",
   "execution_count": 15,
   "id": "b78acee7",
   "metadata": {},
   "outputs": [],
   "source": [
    "from sklearn.preprocessing import MinMaxScaler\n",
    "scaler=MinMaxScaler(feature_range=(0,1))\n",
    "df1=scaler.fit_transform(np.array(df1).reshape(-1,1))"
   ]
  },
  {
   "cell_type": "code",
   "execution_count": 16,
   "id": "07bd44d7",
   "metadata": {},
   "outputs": [
    {
     "data": {
      "text/plain": [
       "array([[0.16513463],\n",
       "       [0.15403882],\n",
       "       [0.14938009],\n",
       "       ...,\n",
       "       [0.12062617],\n",
       "       [0.12663745],\n",
       "       [0.13134627]])"
      ]
     },
     "execution_count": 16,
     "metadata": {},
     "output_type": "execute_result"
    }
   ],
   "source": [
    "df1"
   ]
  },
  {
   "cell_type": "code",
   "execution_count": 17,
   "id": "445f993a",
   "metadata": {},
   "outputs": [],
   "source": [
    "##slitting dataset into train and test\n",
    "training_size=int(len(df1)*0.65)\n",
    "test_size=len(df1)-training_size\n",
    "train_data,test_data=df1[0:training_size,:],df1[training_size:len(df1),:1]"
   ]
  },
  {
   "cell_type": "code",
   "execution_count": 18,
   "id": "da1f1b14",
   "metadata": {},
   "outputs": [
    {
     "data": {
      "text/plain": [
       "(816, 440)"
      ]
     },
     "execution_count": 18,
     "metadata": {},
     "output_type": "execute_result"
    }
   ],
   "source": [
    "training_size,test_size"
   ]
  },
  {
   "cell_type": "code",
   "execution_count": 19,
   "id": "49349e9c",
   "metadata": {},
   "outputs": [],
   "source": [
    "import numpy\n",
    "# convert an array of values into a dataset matrix\n",
    "def create_dataset(dataset, time_step=1):\n",
    "    dataX, dataY = [],[]\n",
    "    for i in range(len(dataset)-time_step-1):\n",
    "        a = dataset[i:(i+time_step), 0]  ###i=0, 0,1,2,3\n",
    "        dataX.append(a)\n",
    "        dataY.append(dataset[i+time_step, 0])\n",
    "    return numpy.array(dataX), numpy.array(dataY)"
   ]
  },
  {
   "cell_type": "code",
   "execution_count": 20,
   "id": "e3efd6e7",
   "metadata": {},
   "outputs": [],
   "source": [
    "# reshape into X=t,t+1,t+2,t+3 and Y=t+4\n",
    "time_step = 100\n",
    "X_train, y_train = create_dataset(train_data, time_step)\n",
    "X_test, ytest = create_dataset(test_data, time_step)"
   ]
  },
  {
   "cell_type": "code",
   "execution_count": 21,
   "id": "b5f44e45",
   "metadata": {},
   "outputs": [
    {
     "name": "stdout",
     "output_type": "stream",
     "text": [
      "(715, 100)\n",
      "(715,)\n"
     ]
    },
    {
     "data": {
      "text/plain": [
       "(None, None)"
      ]
     },
     "execution_count": 21,
     "metadata": {},
     "output_type": "execute_result"
    }
   ],
   "source": [
    "print(X_train.shape), print(y_train.shape)"
   ]
  },
  {
   "cell_type": "code",
   "execution_count": 22,
   "id": "d367e8a9",
   "metadata": {},
   "outputs": [
    {
     "name": "stdout",
     "output_type": "stream",
     "text": [
      "(339, 100)\n",
      "(339,)\n"
     ]
    },
    {
     "data": {
      "text/plain": [
       "(None, None)"
      ]
     },
     "execution_count": 22,
     "metadata": {},
     "output_type": "execute_result"
    }
   ],
   "source": [
    "print(X_test.shape), print(ytest.shape)"
   ]
  },
  {
   "cell_type": "code",
   "execution_count": 23,
   "id": "85804cc7",
   "metadata": {},
   "outputs": [],
   "source": [
    "# reshape input to be [samples, time steps, features] which is required for LSTM\n",
    "X_train =X_train.reshape(X_train.shape[0],X_train.shape[1] , 1)\n",
    "X_test = X_test.reshape(X_test.shape[0],X_test.shape[1] , 1)"
   ]
  },
  {
   "cell_type": "code",
   "execution_count": 24,
   "id": "44d9e548",
   "metadata": {},
   "outputs": [],
   "source": [
    "### Create the Stacked LSTM model\n",
    "from tensorflow.keras.models import Sequential\n",
    "from tensorflow.keras.layers import Dense\n",
    "from tensorflow.keras.layers import LSTM"
   ]
  },
  {
   "cell_type": "code",
   "execution_count": 25,
   "id": "091824ef",
   "metadata": {},
   "outputs": [],
   "source": [
    "model=Sequential()\n",
    "model.add(LSTM(50,return_sequences=True,input_shape=(100,1)))\n",
    "model.add(LSTM(50,return_sequences=True))\n",
    "model.add(LSTM(50))\n",
    "model.add(Dense(1))\n",
    "model.compile(loss='mean_squared_error',optimizer='adam')"
   ]
  },
  {
   "cell_type": "code",
   "execution_count": 26,
   "id": "0be4737a",
   "metadata": {},
   "outputs": [
    {
     "name": "stdout",
     "output_type": "stream",
     "text": [
      "Model: \"sequential\"\n",
      "_________________________________________________________________\n",
      " Layer (type)                Output Shape              Param #   \n",
      "=================================================================\n",
      " lstm (LSTM)                 (None, 100, 50)           10400     \n",
      "                                                                 \n",
      " lstm_1 (LSTM)               (None, 100, 50)           20200     \n",
      "                                                                 \n",
      " lstm_2 (LSTM)               (None, 50)                20200     \n",
      "                                                                 \n",
      " dense (Dense)               (None, 1)                 51        \n",
      "                                                                 \n",
      "=================================================================\n",
      "Total params: 50,851\n",
      "Trainable params: 50,851\n",
      "Non-trainable params: 0\n",
      "_________________________________________________________________\n"
     ]
    }
   ],
   "source": [
    "model.summary()"
   ]
  },
  {
   "cell_type": "code",
   "execution_count": 27,
   "id": "1f98b4eb",
   "metadata": {},
   "outputs": [
    {
     "name": "stdout",
     "output_type": "stream",
     "text": [
      "Epoch 1/100\n",
      "12/12 [==============================] - 15s 328ms/step - loss: 0.0432 - val_loss: 0.0011\n",
      "Epoch 2/100\n",
      "12/12 [==============================] - 2s 155ms/step - loss: 0.0182 - val_loss: 0.0060\n",
      "Epoch 3/100\n",
      "12/12 [==============================] - 2s 152ms/step - loss: 0.0131 - val_loss: 4.9063e-04\n",
      "Epoch 4/100\n",
      "12/12 [==============================] - 2s 144ms/step - loss: 0.0108 - val_loss: 0.0014\n",
      "Epoch 5/100\n",
      "12/12 [==============================] - 2s 147ms/step - loss: 0.0110 - val_loss: 0.0024\n",
      "Epoch 6/100\n",
      "12/12 [==============================] - 2s 146ms/step - loss: 0.0106 - val_loss: 4.9070e-04\n",
      "Epoch 7/100\n",
      "12/12 [==============================] - 2s 150ms/step - loss: 0.0091 - val_loss: 6.4625e-04\n",
      "Epoch 8/100\n",
      "12/12 [==============================] - 2s 165ms/step - loss: 0.0080 - val_loss: 3.9491e-04\n",
      "Epoch 9/100\n",
      "12/12 [==============================] - 2s 183ms/step - loss: 0.0072 - val_loss: 3.6397e-04\n",
      "Epoch 10/100\n",
      "12/12 [==============================] - 2s 187ms/step - loss: 0.0069 - val_loss: 3.7554e-04\n",
      "Epoch 11/100\n",
      "12/12 [==============================] - 2s 146ms/step - loss: 0.0064 - val_loss: 0.0011\n",
      "Epoch 12/100\n",
      "12/12 [==============================] - 2s 149ms/step - loss: 0.0061 - val_loss: 0.0011\n",
      "Epoch 13/100\n",
      "12/12 [==============================] - 2s 150ms/step - loss: 0.0057 - val_loss: 5.7945e-04\n",
      "Epoch 14/100\n",
      "12/12 [==============================] - 2s 152ms/step - loss: 0.0054 - val_loss: 3.0224e-04\n",
      "Epoch 15/100\n",
      "12/12 [==============================] - 2s 156ms/step - loss: 0.0047 - val_loss: 3.1900e-04\n",
      "Epoch 16/100\n",
      "12/12 [==============================] - 2s 146ms/step - loss: 0.0043 - val_loss: 3.2661e-04\n",
      "Epoch 17/100\n",
      "12/12 [==============================] - 2s 149ms/step - loss: 0.0041 - val_loss: 3.6846e-04\n",
      "Epoch 18/100\n",
      "12/12 [==============================] - 2s 149ms/step - loss: 0.0045 - val_loss: 4.3010e-04\n",
      "Epoch 19/100\n",
      "12/12 [==============================] - 2s 154ms/step - loss: 0.0045 - val_loss: 6.1683e-04\n",
      "Epoch 20/100\n",
      "12/12 [==============================] - 2s 168ms/step - loss: 0.0034 - val_loss: 3.0335e-04\n",
      "Epoch 21/100\n",
      "12/12 [==============================] - 2s 173ms/step - loss: 0.0032 - val_loss: 3.0934e-04\n",
      "Epoch 22/100\n",
      "12/12 [==============================] - 2s 166ms/step - loss: 0.0035 - val_loss: 6.7809e-04\n",
      "Epoch 23/100\n",
      "12/12 [==============================] - 2s 168ms/step - loss: 0.0036 - val_loss: 3.1496e-04\n",
      "Epoch 24/100\n",
      "12/12 [==============================] - 2s 165ms/step - loss: 0.0040 - val_loss: 3.3824e-04\n",
      "Epoch 25/100\n",
      "12/12 [==============================] - 2s 163ms/step - loss: 0.0042 - val_loss: 3.1556e-04\n",
      "Epoch 26/100\n",
      "12/12 [==============================] - 2s 160ms/step - loss: 0.0055 - val_loss: 3.4040e-04\n",
      "Epoch 27/100\n",
      "12/12 [==============================] - 2s 159ms/step - loss: 0.0029 - val_loss: 3.1379e-04\n",
      "Epoch 28/100\n",
      "12/12 [==============================] - 2s 169ms/step - loss: 0.0027 - val_loss: 3.0863e-04\n",
      "Epoch 29/100\n",
      "12/12 [==============================] - 2s 168ms/step - loss: 0.0022 - val_loss: 3.5329e-04\n",
      "Epoch 30/100\n",
      "12/12 [==============================] - 2s 162ms/step - loss: 0.0024 - val_loss: 2.7364e-04\n",
      "Epoch 31/100\n",
      "12/12 [==============================] - 2s 162ms/step - loss: 0.0019 - val_loss: 3.1146e-04\n",
      "Epoch 32/100\n",
      "12/12 [==============================] - 2s 162ms/step - loss: 0.0020 - val_loss: 2.8857e-04\n",
      "Epoch 33/100\n",
      "12/12 [==============================] - 2s 161ms/step - loss: 0.0020 - val_loss: 2.7221e-04\n",
      "Epoch 34/100\n",
      "12/12 [==============================] - 2s 161ms/step - loss: 0.0023 - val_loss: 2.6774e-04\n",
      "Epoch 35/100\n",
      "12/12 [==============================] - 2s 161ms/step - loss: 0.0019 - val_loss: 2.5977e-04\n",
      "Epoch 36/100\n",
      "12/12 [==============================] - 2s 161ms/step - loss: 0.0023 - val_loss: 3.9544e-04\n",
      "Epoch 37/100\n",
      "12/12 [==============================] - 2s 159ms/step - loss: 0.0025 - val_loss: 2.5346e-04\n",
      "Epoch 38/100\n",
      "12/12 [==============================] - 2s 157ms/step - loss: 0.0019 - val_loss: 3.3435e-04\n",
      "Epoch 39/100\n",
      "12/12 [==============================] - 2s 157ms/step - loss: 0.0020 - val_loss: 2.7948e-04\n",
      "Epoch 40/100\n",
      "12/12 [==============================] - 2s 156ms/step - loss: 0.0021 - val_loss: 2.6662e-04\n",
      "Epoch 41/100\n",
      "12/12 [==============================] - 2s 157ms/step - loss: 0.0020 - val_loss: 2.6026e-04\n",
      "Epoch 42/100\n",
      "12/12 [==============================] - 2s 158ms/step - loss: 0.0022 - val_loss: 2.6035e-04\n",
      "Epoch 43/100\n",
      "12/12 [==============================] - 2s 161ms/step - loss: 0.0020 - val_loss: 2.8930e-04\n",
      "Epoch 44/100\n",
      "12/12 [==============================] - 2s 162ms/step - loss: 0.0038 - val_loss: 8.0179e-04\n",
      "Epoch 45/100\n",
      "12/12 [==============================] - 2s 161ms/step - loss: 0.0049 - val_loss: 4.4059e-04\n",
      "Epoch 46/100\n",
      "12/12 [==============================] - 2s 160ms/step - loss: 0.0033 - val_loss: 3.1208e-04\n",
      "Epoch 47/100\n",
      "12/12 [==============================] - 2s 160ms/step - loss: 0.0027 - val_loss: 3.4624e-04\n",
      "Epoch 48/100\n",
      "12/12 [==============================] - 2s 160ms/step - loss: 0.0026 - val_loss: 2.7839e-04\n",
      "Epoch 49/100\n",
      "12/12 [==============================] - 2s 159ms/step - loss: 0.0023 - val_loss: 3.4563e-04\n",
      "Epoch 50/100\n",
      "12/12 [==============================] - 2s 159ms/step - loss: 0.0020 - val_loss: 2.7119e-04\n",
      "Epoch 51/100\n",
      "12/12 [==============================] - 2s 159ms/step - loss: 0.0016 - val_loss: 2.7724e-04\n",
      "Epoch 52/100\n",
      "12/12 [==============================] - 2s 158ms/step - loss: 0.0022 - val_loss: 3.1927e-04\n",
      "Epoch 53/100\n",
      "12/12 [==============================] - 2s 166ms/step - loss: 0.0021 - val_loss: 3.0007e-04\n",
      "Epoch 54/100\n",
      "12/12 [==============================] - 2s 161ms/step - loss: 0.0019 - val_loss: 3.0786e-04\n",
      "Epoch 55/100\n",
      "12/12 [==============================] - 2s 162ms/step - loss: 0.0019 - val_loss: 2.7439e-04\n",
      "Epoch 56/100\n",
      "12/12 [==============================] - 2s 158ms/step - loss: 0.0018 - val_loss: 2.6246e-04\n",
      "Epoch 57/100\n",
      "12/12 [==============================] - 2s 161ms/step - loss: 0.0018 - val_loss: 4.7440e-04\n",
      "Epoch 58/100\n",
      "12/12 [==============================] - 2s 162ms/step - loss: 0.0018 - val_loss: 2.6424e-04\n",
      "Epoch 59/100\n",
      "12/12 [==============================] - 2s 161ms/step - loss: 0.0017 - val_loss: 2.7873e-04\n",
      "Epoch 60/100\n",
      "12/12 [==============================] - 2s 163ms/step - loss: 0.0105 - val_loss: 6.5224e-04\n",
      "Epoch 61/100\n",
      "12/12 [==============================] - 2s 162ms/step - loss: 0.0087 - val_loss: 5.9490e-04\n",
      "Epoch 62/100\n",
      "12/12 [==============================] - 2s 161ms/step - loss: 0.0035 - val_loss: 3.1853e-04\n",
      "Epoch 63/100\n",
      "12/12 [==============================] - 2s 164ms/step - loss: 0.0032 - val_loss: 4.1073e-04\n",
      "Epoch 64/100\n",
      "12/12 [==============================] - 2s 162ms/step - loss: 0.0041 - val_loss: 2.7271e-04\n",
      "Epoch 65/100\n",
      "12/12 [==============================] - 2s 160ms/step - loss: 0.0027 - val_loss: 2.7312e-04\n",
      "Epoch 66/100\n",
      "12/12 [==============================] - 2s 166ms/step - loss: 0.0026 - val_loss: 2.7674e-04\n",
      "Epoch 67/100\n",
      "12/12 [==============================] - 2s 158ms/step - loss: 0.0019 - val_loss: 2.9060e-04\n",
      "Epoch 68/100\n",
      "12/12 [==============================] - 2s 160ms/step - loss: 0.0024 - val_loss: 3.2289e-04\n",
      "Epoch 69/100\n",
      "12/12 [==============================] - 2s 161ms/step - loss: 0.0028 - val_loss: 3.7886e-04\n",
      "Epoch 70/100\n",
      "12/12 [==============================] - 2s 160ms/step - loss: 0.0022 - val_loss: 2.5789e-04\n",
      "Epoch 71/100\n",
      "12/12 [==============================] - 2s 164ms/step - loss: 0.0022 - val_loss: 2.5158e-04\n",
      "Epoch 72/100\n",
      "12/12 [==============================] - 2s 162ms/step - loss: 0.0021 - val_loss: 2.7688e-04\n",
      "Epoch 73/100\n",
      "12/12 [==============================] - 2s 160ms/step - loss: 0.0017 - val_loss: 2.7169e-04\n",
      "Epoch 74/100\n",
      "12/12 [==============================] - 2s 158ms/step - loss: 0.0014 - val_loss: 3.0008e-04\n",
      "Epoch 75/100\n",
      "12/12 [==============================] - 2s 160ms/step - loss: 0.0022 - val_loss: 2.6035e-04\n",
      "Epoch 76/100\n",
      "12/12 [==============================] - 2s 164ms/step - loss: 0.0017 - val_loss: 2.4828e-04\n",
      "Epoch 77/100\n",
      "12/12 [==============================] - 2s 163ms/step - loss: 0.0015 - val_loss: 2.4529e-04\n",
      "Epoch 78/100\n"
     ]
    },
    {
     "name": "stdout",
     "output_type": "stream",
     "text": [
      "12/12 [==============================] - 2s 162ms/step - loss: 0.0016 - val_loss: 3.0859e-04\n",
      "Epoch 79/100\n",
      "12/12 [==============================] - 2s 163ms/step - loss: 0.0017 - val_loss: 2.4832e-04\n",
      "Epoch 80/100\n",
      "12/12 [==============================] - 2s 164ms/step - loss: 0.0014 - val_loss: 2.4439e-04\n",
      "Epoch 81/100\n",
      "12/12 [==============================] - 2s 162ms/step - loss: 0.0014 - val_loss: 2.4385e-04\n",
      "Epoch 82/100\n",
      "12/12 [==============================] - 2s 159ms/step - loss: 0.0016 - val_loss: 2.4971e-04\n",
      "Epoch 83/100\n",
      "12/12 [==============================] - 2s 160ms/step - loss: 0.0014 - val_loss: 2.6487e-04\n",
      "Epoch 84/100\n",
      "12/12 [==============================] - 2s 163ms/step - loss: 0.0014 - val_loss: 2.5311e-04\n",
      "Epoch 85/100\n",
      "12/12 [==============================] - 2s 195ms/step - loss: 0.0014 - val_loss: 2.7901e-04\n",
      "Epoch 86/100\n",
      "12/12 [==============================] - 2s 173ms/step - loss: 0.0014 - val_loss: 2.5740e-04\n",
      "Epoch 87/100\n",
      "12/12 [==============================] - 2s 146ms/step - loss: 0.0024 - val_loss: 6.2699e-04\n",
      "Epoch 88/100\n",
      "12/12 [==============================] - 2s 154ms/step - loss: 0.0024 - val_loss: 3.7101e-04\n",
      "Epoch 89/100\n",
      "12/12 [==============================] - 2s 161ms/step - loss: 0.0023 - val_loss: 2.3954e-04\n",
      "Epoch 90/100\n",
      "12/12 [==============================] - 2s 183ms/step - loss: 0.0021 - val_loss: 2.4567e-04\n",
      "Epoch 91/100\n",
      "12/12 [==============================] - 2s 157ms/step - loss: 0.0018 - val_loss: 2.4397e-04\n",
      "Epoch 92/100\n",
      "12/12 [==============================] - 2s 201ms/step - loss: 0.0017 - val_loss: 2.3586e-04\n",
      "Epoch 93/100\n",
      "12/12 [==============================] - 2s 149ms/step - loss: 0.0018 - val_loss: 2.4357e-04\n",
      "Epoch 94/100\n",
      "12/12 [==============================] - 2s 155ms/step - loss: 0.0030 - val_loss: 2.7378e-04\n",
      "Epoch 95/100\n",
      "12/12 [==============================] - 2s 176ms/step - loss: 0.0016 - val_loss: 2.4367e-04\n",
      "Epoch 96/100\n",
      "12/12 [==============================] - 2s 167ms/step - loss: 0.0015 - val_loss: 2.2547e-04\n",
      "Epoch 97/100\n",
      "12/12 [==============================] - 2s 159ms/step - loss: 0.0013 - val_loss: 2.6085e-04\n",
      "Epoch 98/100\n",
      "12/12 [==============================] - 2s 173ms/step - loss: 0.0047 - val_loss: 2.3652e-04\n",
      "Epoch 99/100\n",
      "12/12 [==============================] - 2s 174ms/step - loss: 0.0039 - val_loss: 2.2214e-04\n",
      "Epoch 100/100\n",
      "12/12 [==============================] - 2s 174ms/step - loss: 0.0029 - val_loss: 2.5275e-04\n"
     ]
    },
    {
     "data": {
      "text/plain": [
       "<keras.callbacks.History at 0x282c94ee100>"
      ]
     },
     "execution_count": 27,
     "metadata": {},
     "output_type": "execute_result"
    }
   ],
   "source": [
    "model.fit(X_train,y_train,validation_data=(X_test,ytest),epochs=100,batch_size=64,verbose=1)"
   ]
  },
  {
   "cell_type": "code",
   "execution_count": 28,
   "id": "2176426e",
   "metadata": {},
   "outputs": [],
   "source": [
    "import tensorflow as tf"
   ]
  },
  {
   "cell_type": "code",
   "execution_count": 29,
   "id": "29da39ca",
   "metadata": {},
   "outputs": [
    {
     "data": {
      "text/plain": [
       "'2.11.1'"
      ]
     },
     "execution_count": 29,
     "metadata": {},
     "output_type": "execute_result"
    }
   ],
   "source": [
    "tf.__version__"
   ]
  },
  {
   "cell_type": "code",
   "execution_count": 30,
   "id": "029eec87",
   "metadata": {},
   "outputs": [
    {
     "name": "stdout",
     "output_type": "stream",
     "text": [
      "23/23 [==============================] - 2s 30ms/step\n",
      "11/11 [==============================] - 0s 30ms/step\n"
     ]
    }
   ],
   "source": [
    "### Lets Do the prediction and check performance metrics\n",
    "train_predict=model.predict(X_train)\n",
    "test_predict=model.predict(X_test)"
   ]
  },
  {
   "cell_type": "code",
   "execution_count": 31,
   "id": "064f81a9",
   "metadata": {},
   "outputs": [],
   "source": [
    "##Transformback to original form\n",
    "train_predict=scaler.inverse_transform(train_predict)\n",
    "test_predict=scaler.inverse_transform(test_predict)"
   ]
  },
  {
   "cell_type": "code",
   "execution_count": 32,
   "id": "d81ad32d",
   "metadata": {},
   "outputs": [
    {
     "data": {
      "text/plain": [
       "229.27438997634894"
      ]
     },
     "execution_count": 32,
     "metadata": {},
     "output_type": "execute_result"
    }
   ],
   "source": [
    "### Calculate RMSE performance metrics\n",
    "import math\n",
    "from sklearn.metrics import mean_squared_error\n",
    "math.sqrt(mean_squared_error(y_train,train_predict))"
   ]
  },
  {
   "cell_type": "code",
   "execution_count": 33,
   "id": "cca16046",
   "metadata": {},
   "outputs": [
    {
     "data": {
      "text/plain": [
       "157.1660246665333"
      ]
     },
     "execution_count": 33,
     "metadata": {},
     "output_type": "execute_result"
    }
   ],
   "source": [
    "### Test Data RMSE\n",
    "math.sqrt(mean_squared_error(ytest,test_predict))"
   ]
  },
  {
   "cell_type": "code",
   "execution_count": 34,
   "id": "5b1f7526",
   "metadata": {},
   "outputs": [
    {
     "data": {
      "image/png": "[encoded data removed]",
      "text/plain": [
       "<Figure size 432x288 with 1 Axes>"
      ]
     },
     "metadata": {
      "needs_background": "light"
     },
     "output_type": "display_data"
    }
   ],
   "source": [
    "### Plotting \n",
    "# shift train predictions for plotting\n",
    "look_back=100\n",
    "trainPredictPlot = numpy.empty_like(df1)\n",
    "trainPredictPlot[:, :] = np.nan\n",
    "trainPredictPlot[look_back:len(train_predict)+look_back, :] = train_predict\n",
    "# shift test predictions for plotting\n",
    "testPredictPlot = numpy.empty_like(df1)\n",
    "testPredictPlot[:, :] = numpy.nan\n",
    "testPredictPlot[len(train_predict)+(look_back*2)+1:len(df1)-1, :] = test_predict\n",
    "# plot baseline and predictions\n",
    "plt.plot(scaler.inverse_transform(df1))\n",
    "plt.plot(trainPredictPlot)\n",
    "plt.plot(testPredictPlot)\n",
    "plt.show()"
   ]
  },
  {
   "cell_type": "code",
   "execution_count": 35,
   "id": "3be7a5fc",
   "metadata": {},
   "outputs": [
    {
     "data": {
      "text/plain": [
       "440"
      ]
     },
     "execution_count": 35,
     "metadata": {},
     "output_type": "execute_result"
    }
   ],
   "source": [
    "len(test_data)"
   ]
  },
  {
   "cell_type": "code",
   "execution_count": 36,
   "id": "1391aa13",
   "metadata": {},
   "outputs": [
    {
     "data": {
      "text/plain": [
       "(1, 100)"
      ]
     },
     "execution_count": 36,
     "metadata": {},
     "output_type": "execute_result"
    }
   ],
   "source": [
    "x_input=test_data[340:].reshape(1,-1)\n",
    "x_input.shape"
   ]
  },
  {
   "cell_type": "code",
   "execution_count": 37,
   "id": "5f38440f",
   "metadata": {},
   "outputs": [],
   "source": [
    "temp_input=list(x_input)\n",
    "temp_input=temp_input[0].tolist()"
   ]
  },
  {
   "cell_type": "code",
   "execution_count": 38,
   "id": "6e1b6f8a",
   "metadata": {},
   "outputs": [
    {
     "data": {
      "text/plain": [
       "[0.10647463994990602,\n",
       " 0.09507827175954914,\n",
       " 0.1224796493425172,\n",
       " 0.11646837820914213,\n",
       " 0.10973074514715087,\n",
       " 0.0956543519098309,\n",
       " 0.08025046963055726,\n",
       " 0.07899812147777074,\n",
       " 0.08035065748278014,\n",
       " 0.08180338134001247,\n",
       " 0.07020663744520972,\n",
       " 0.10026299311208514,\n",
       " 0.10735128365685653,\n",
       " 0.103794614902943,\n",
       " 0.10820288040075132,\n",
       " 0.10507201001878513,\n",
       " 0.10990607388854096,\n",
       " 0.11133375078271751,\n",
       " 0.10311834690043825,\n",
       " 0.10855353788353161,\n",
       " 0.11078271759549146,\n",
       " 0.10336881653099561,\n",
       " 0.09362554790231681,\n",
       " 0.08598622417031926,\n",
       " 0.10316844082654975,\n",
       " 0.10386975579211016,\n",
       " 0.1026174076393237,\n",
       " 0.0996618659987476,\n",
       " 0.09034439574201625,\n",
       " 0.08541014402003755,\n",
       " 0.08969317470256727,\n",
       " 0.08846587351283652,\n",
       " 0.0943018159048215,\n",
       " 0.096756418284283,\n",
       " 0.09109580463368816,\n",
       " 0.07428929242329363,\n",
       " 0.06930494677520344,\n",
       " 0.06394489668127734,\n",
       " 0.06376956793988725,\n",
       " 0.07165936130244199,\n",
       " 0.0635942391984971,\n",
       " 0.06266750156543521,\n",
       " 0.05808390732623664,\n",
       " 0.04809016906700059,\n",
       " 0.05703193487789604,\n",
       " 0.05783343769567939,\n",
       " 0.04566061365059482,\n",
       " 0.04889167188478394,\n",
       " 0.045535378835316165,\n",
       " 0.05705698184095176,\n",
       " 0.05838447088290544,\n",
       " 0.05983719474013771,\n",
       " 0.06675015654351907,\n",
       " 0.0665497808390732,\n",
       " 0.0699311208515967,\n",
       " 0.0728866624921728,\n",
       " 0.07105823418910456,\n",
       " 0.07120851596743893,\n",
       " 0.07772072636192856,\n",
       " 0.08583594239198494,\n",
       " 0.08939261114589853,\n",
       " 0.08771446462116467,\n",
       " 0.09297432686286783,\n",
       " 0.09790857858484658,\n",
       " 0.09056981840951783,\n",
       " 0.0938008766437069,\n",
       " 0.09665623043206006,\n",
       " 0.11015654351909826,\n",
       " 0.11937382592360674,\n",
       " 0.1124358171571696,\n",
       " 0.11974953036944269,\n",
       " 0.11291170945522849,\n",
       " 0.11028177833437691,\n",
       " 0.1106324358171571,\n",
       " 0.11774577332498432,\n",
       " 0.11611772072636184,\n",
       " 0.12145272385723233,\n",
       " 0.11739511584220413,\n",
       " 0.11448966812773947,\n",
       " 0.10429555416405756,\n",
       " 0.10537257357545393,\n",
       " 0.10659987476518468,\n",
       " 0.09986224170319347,\n",
       " 0.10289292423293667,\n",
       " 0.10161552911709448,\n",
       " 0.09635566687539132,\n",
       " 0.09785848465873509,\n",
       " 0.11068252974326859,\n",
       " 0.11769567939887288,\n",
       " 0.11211020663744514,\n",
       " 0.11529117094552283,\n",
       " 0.1095804633688165,\n",
       " 0.10434564809016905,\n",
       " 0.10927989981214775,\n",
       " 0.11458985597996241,\n",
       " 0.11559173450219157,\n",
       " 0.12275516593613017,\n",
       " 0.1206261740763932,\n",
       " 0.12663744520976827,\n",
       " 0.13134627426424544]"
      ]
     },
     "execution_count": 38,
     "metadata": {},
     "output_type": "execute_result"
    }
   ],
   "source": [
    "temp_input"
   ]
  },
  {
   "cell_type": "code",
   "execution_count": 39,
   "id": "a3b24fb7",
   "metadata": {},
   "outputs": [
    {
     "name": "stdout",
     "output_type": "stream",
     "text": [
      "[0.12234139]\n",
      "101\n",
      "1 day input [0.09507827 0.12247965 0.11646838 0.10973075 0.09565435 0.08025047\n",
      " 0.07899812 0.08035066 0.08180338 0.07020664 0.10026299 0.10735128\n",
      " 0.10379461 0.10820288 0.10507201 0.10990607 0.11133375 0.10311835\n",
      " 0.10855354 0.11078272 0.10336882 0.09362555 0.08598622 0.10316844\n",
      " 0.10386976 0.10261741 0.09966187 0.0903444  0.08541014 0.08969317\n",
      " 0.08846587 0.09430182 0.09675642 0.0910958  0.07428929 0.06930495\n",
      " 0.0639449  0.06376957 0.07165936 0.06359424 0.0626675  0.05808391\n",
      " 0.04809017 0.05703193 0.05783344 0.04566061 0.04889167 0.04553538\n",
      " 0.05705698 0.05838447 0.05983719 0.06675016 0.06654978 0.06993112\n",
      " 0.07288666 0.07105823 0.07120852 0.07772073 0.08583594 0.08939261\n",
      " 0.08771446 0.09297433 0.09790858 0.09056982 0.09380088 0.09665623\n",
      " 0.11015654 0.11937383 0.11243582 0.11974953 0.11291171 0.11028178\n",
      " 0.11063244 0.11774577 0.11611772 0.12145272 0.11739512 0.11448967\n",
      " 0.10429555 0.10537257 0.10659987 0.09986224 0.10289292 0.10161553\n",
      " 0.09635567 0.09785848 0.11068253 0.11769568 0.11211021 0.11529117\n",
      " 0.10958046 0.10434565 0.1092799  0.11458986 0.11559173 0.12275517\n",
      " 0.12062617 0.12663745 0.13134627 0.12234139]\n",
      "1 day output [[0.12450822]]\n",
      "2 day input [0.12247965 0.11646838 0.10973075 0.09565435 0.08025047 0.07899812\n",
      " 0.08035066 0.08180338 0.07020664 0.10026299 0.10735128 0.10379461\n",
      " 0.10820288 0.10507201 0.10990607 0.11133375 0.10311835 0.10855354\n",
      " 0.11078272 0.10336882 0.09362555 0.08598622 0.10316844 0.10386976\n",
      " 0.10261741 0.09966187 0.0903444  0.08541014 0.08969317 0.08846587\n",
      " 0.09430182 0.09675642 0.0910958  0.07428929 0.06930495 0.0639449\n",
      " 0.06376957 0.07165936 0.06359424 0.0626675  0.05808391 0.04809017\n",
      " 0.05703193 0.05783344 0.04566061 0.04889167 0.04553538 0.05705698\n",
      " 0.05838447 0.05983719 0.06675016 0.06654978 0.06993112 0.07288666\n",
      " 0.07105823 0.07120852 0.07772073 0.08583594 0.08939261 0.08771446\n",
      " 0.09297433 0.09790858 0.09056982 0.09380088 0.09665623 0.11015654\n",
      " 0.11937383 0.11243582 0.11974953 0.11291171 0.11028178 0.11063244\n",
      " 0.11774577 0.11611772 0.12145272 0.11739512 0.11448967 0.10429555\n",
      " 0.10537257 0.10659987 0.09986224 0.10289292 0.10161553 0.09635567\n",
      " 0.09785848 0.11068253 0.11769568 0.11211021 0.11529117 0.10958046\n",
      " 0.10434565 0.1092799  0.11458986 0.11559173 0.12275517 0.12062617\n",
      " 0.12663745 0.13134627 0.12234139 0.12450822]\n",
      "2 day output [[0.1263039]]\n",
      "3 day input [0.11646838 0.10973075 0.09565435 0.08025047 0.07899812 0.08035066\n",
      " 0.08180338 0.07020664 0.10026299 0.10735128 0.10379461 0.10820288\n",
      " 0.10507201 0.10990607 0.11133375 0.10311835 0.10855354 0.11078272\n",
      " 0.10336882 0.09362555 0.08598622 0.10316844 0.10386976 0.10261741\n",
      " 0.09966187 0.0903444  0.08541014 0.08969317 0.08846587 0.09430182\n",
      " 0.09675642 0.0910958  0.07428929 0.06930495 0.0639449  0.06376957\n",
      " 0.07165936 0.06359424 0.0626675  0.05808391 0.04809017 0.05703193\n",
      " 0.05783344 0.04566061 0.04889167 0.04553538 0.05705698 0.05838447\n",
      " 0.05983719 0.06675016 0.06654978 0.06993112 0.07288666 0.07105823\n",
      " 0.07120852 0.07772073 0.08583594 0.08939261 0.08771446 0.09297433\n",
      " 0.09790858 0.09056982 0.09380088 0.09665623 0.11015654 0.11937383\n",
      " 0.11243582 0.11974953 0.11291171 0.11028178 0.11063244 0.11774577\n",
      " 0.11611772 0.12145272 0.11739512 0.11448967 0.10429555 0.10537257\n",
      " 0.10659987 0.09986224 0.10289292 0.10161553 0.09635567 0.09785848\n",
      " 0.11068253 0.11769568 0.11211021 0.11529117 0.10958046 0.10434565\n",
      " 0.1092799  0.11458986 0.11559173 0.12275517 0.12062617 0.12663745\n",
      " 0.13134627 0.12234139 0.12450822 0.1263039 ]\n",
      "3 day output [[0.12779576]]\n",
      "4 day input [0.10973075 0.09565435 0.08025047 0.07899812 0.08035066 0.08180338\n",
      " 0.07020664 0.10026299 0.10735128 0.10379461 0.10820288 0.10507201\n",
      " 0.10990607 0.11133375 0.10311835 0.10855354 0.11078272 0.10336882\n",
      " 0.09362555 0.08598622 0.10316844 0.10386976 0.10261741 0.09966187\n",
      " 0.0903444  0.08541014 0.08969317 0.08846587 0.09430182 0.09675642\n",
      " 0.0910958  0.07428929 0.06930495 0.0639449  0.06376957 0.07165936\n",
      " 0.06359424 0.0626675  0.05808391 0.04809017 0.05703193 0.05783344\n",
      " 0.04566061 0.04889167 0.04553538 0.05705698 0.05838447 0.05983719\n",
      " 0.06675016 0.06654978 0.06993112 0.07288666 0.07105823 0.07120852\n",
      " 0.07772073 0.08583594 0.08939261 0.08771446 0.09297433 0.09790858\n",
      " 0.09056982 0.09380088 0.09665623 0.11015654 0.11937383 0.11243582\n",
      " 0.11974953 0.11291171 0.11028178 0.11063244 0.11774577 0.11611772\n",
      " 0.12145272 0.11739512 0.11448967 0.10429555 0.10537257 0.10659987\n",
      " 0.09986224 0.10289292 0.10161553 0.09635567 0.09785848 0.11068253\n",
      " 0.11769568 0.11211021 0.11529117 0.10958046 0.10434565 0.1092799\n",
      " 0.11458986 0.11559173 0.12275517 0.12062617 0.12663745 0.13134627\n",
      " 0.12234139 0.12450822 0.1263039  0.12779576]\n",
      "4 day output [[0.12908974]]\n",
      "5 day input [0.09565435 0.08025047 0.07899812 0.08035066 0.08180338 0.07020664\n",
      " 0.10026299 0.10735128 0.10379461 0.10820288 0.10507201 0.10990607\n",
      " 0.11133375 0.10311835 0.10855354 0.11078272 0.10336882 0.09362555\n",
      " 0.08598622 0.10316844 0.10386976 0.10261741 0.09966187 0.0903444\n",
      " 0.08541014 0.08969317 0.08846587 0.09430182 0.09675642 0.0910958\n",
      " 0.07428929 0.06930495 0.0639449  0.06376957 0.07165936 0.06359424\n",
      " 0.0626675  0.05808391 0.04809017 0.05703193 0.05783344 0.04566061\n",
      " 0.04889167 0.04553538 0.05705698 0.05838447 0.05983719 0.06675016\n",
      " 0.06654978 0.06993112 0.07288666 0.07105823 0.07120852 0.07772073\n",
      " 0.08583594 0.08939261 0.08771446 0.09297433 0.09790858 0.09056982\n",
      " 0.09380088 0.09665623 0.11015654 0.11937383 0.11243582 0.11974953\n",
      " 0.11291171 0.11028178 0.11063244 0.11774577 0.11611772 0.12145272\n",
      " 0.11739512 0.11448967 0.10429555 0.10537257 0.10659987 0.09986224\n",
      " 0.10289292 0.10161553 0.09635567 0.09785848 0.11068253 0.11769568\n",
      " 0.11211021 0.11529117 0.10958046 0.10434565 0.1092799  0.11458986\n",
      " 0.11559173 0.12275517 0.12062617 0.12663745 0.13134627 0.12234139\n",
      " 0.12450822 0.1263039  0.12779576 0.12908974]\n",
      "5 day output [[0.13027245]]\n",
      "6 day input [0.08025047 0.07899812 0.08035066 0.08180338 0.07020664 0.10026299\n",
      " 0.10735128 0.10379461 0.10820288 0.10507201 0.10990607 0.11133375\n",
      " 0.10311835 0.10855354 0.11078272 0.10336882 0.09362555 0.08598622\n",
      " 0.10316844 0.10386976 0.10261741 0.09966187 0.0903444  0.08541014\n",
      " 0.08969317 0.08846587 0.09430182 0.09675642 0.0910958  0.07428929\n",
      " 0.06930495 0.0639449  0.06376957 0.07165936 0.06359424 0.0626675\n",
      " 0.05808391 0.04809017 0.05703193 0.05783344 0.04566061 0.04889167\n",
      " 0.04553538 0.05705698 0.05838447 0.05983719 0.06675016 0.06654978\n",
      " 0.06993112 0.07288666 0.07105823 0.07120852 0.07772073 0.08583594\n",
      " 0.08939261 0.08771446 0.09297433 0.09790858 0.09056982 0.09380088\n",
      " 0.09665623 0.11015654 0.11937383 0.11243582 0.11974953 0.11291171\n",
      " 0.11028178 0.11063244 0.11774577 0.11611772 0.12145272 0.11739512\n",
      " 0.11448967 0.10429555 0.10537257 0.10659987 0.09986224 0.10289292\n",
      " 0.10161553 0.09635567 0.09785848 0.11068253 0.11769568 0.11211021\n",
      " 0.11529117 0.10958046 0.10434565 0.1092799  0.11458986 0.11559173\n",
      " 0.12275517 0.12062617 0.12663745 0.13134627 0.12234139 0.12450822\n",
      " 0.1263039  0.12779576 0.12908974 0.13027245]\n",
      "6 day output [[0.13140027]]\n",
      "7 day input [0.07899812 0.08035066 0.08180338 0.07020664 0.10026299 0.10735128\n",
      " 0.10379461 0.10820288 0.10507201 0.10990607 0.11133375 0.10311835\n",
      " 0.10855354 0.11078272 0.10336882 0.09362555 0.08598622 0.10316844\n",
      " 0.10386976 0.10261741 0.09966187 0.0903444  0.08541014 0.08969317\n",
      " 0.08846587 0.09430182 0.09675642 0.0910958  0.07428929 0.06930495\n",
      " 0.0639449  0.06376957 0.07165936 0.06359424 0.0626675  0.05808391\n",
      " 0.04809017 0.05703193 0.05783344 0.04566061 0.04889167 0.04553538\n",
      " 0.05705698 0.05838447 0.05983719 0.06675016 0.06654978 0.06993112\n",
      " 0.07288666 0.07105823 0.07120852 0.07772073 0.08583594 0.08939261\n",
      " 0.08771446 0.09297433 0.09790858 0.09056982 0.09380088 0.09665623\n",
      " 0.11015654 0.11937383 0.11243582 0.11974953 0.11291171 0.11028178\n",
      " 0.11063244 0.11774577 0.11611772 0.12145272 0.11739512 0.11448967\n",
      " 0.10429555 0.10537257 0.10659987 0.09986224 0.10289292 0.10161553\n",
      " 0.09635567 0.09785848 0.11068253 0.11769568 0.11211021 0.11529117\n",
      " 0.10958046 0.10434565 0.1092799  0.11458986 0.11559173 0.12275517\n",
      " 0.12062617 0.12663745 0.13134627 0.12234139 0.12450822 0.1263039\n",
      " 0.12779576 0.12908974 0.13027245 0.13140027]\n",
      "7 day output [[0.13250494]]\n",
      "8 day input [0.08035066 0.08180338 0.07020664 0.10026299 0.10735128 0.10379461\n",
      " 0.10820288 0.10507201 0.10990607 0.11133375 0.10311835 0.10855354\n",
      " 0.11078272 0.10336882 0.09362555 0.08598622 0.10316844 0.10386976\n",
      " 0.10261741 0.09966187 0.0903444  0.08541014 0.08969317 0.08846587\n",
      " 0.09430182 0.09675642 0.0910958  0.07428929 0.06930495 0.0639449\n",
      " 0.06376957 0.07165936 0.06359424 0.0626675  0.05808391 0.04809017\n",
      " 0.05703193 0.05783344 0.04566061 0.04889167 0.04553538 0.05705698\n",
      " 0.05838447 0.05983719 0.06675016 0.06654978 0.06993112 0.07288666\n",
      " 0.07105823 0.07120852 0.07772073 0.08583594 0.08939261 0.08771446\n",
      " 0.09297433 0.09790858 0.09056982 0.09380088 0.09665623 0.11015654\n",
      " 0.11937383 0.11243582 0.11974953 0.11291171 0.11028178 0.11063244\n",
      " 0.11774577 0.11611772 0.12145272 0.11739512 0.11448967 0.10429555\n",
      " 0.10537257 0.10659987 0.09986224 0.10289292 0.10161553 0.09635567\n",
      " 0.09785848 0.11068253 0.11769568 0.11211021 0.11529117 0.10958046\n",
      " 0.10434565 0.1092799  0.11458986 0.11559173 0.12275517 0.12062617\n",
      " 0.12663745 0.13134627 0.12234139 0.12450822 0.1263039  0.12779576\n",
      " 0.12908974 0.13027245 0.13140027 0.13250494]\n",
      "8 day output [[0.13360232]]\n",
      "9 day input [0.08180338 0.07020664 0.10026299 0.10735128 0.10379461 0.10820288\n",
      " 0.10507201 0.10990607 0.11133375 0.10311835 0.10855354 0.11078272\n",
      " 0.10336882 0.09362555 0.08598622 0.10316844 0.10386976 0.10261741\n",
      " 0.09966187 0.0903444  0.08541014 0.08969317 0.08846587 0.09430182\n",
      " 0.09675642 0.0910958  0.07428929 0.06930495 0.0639449  0.06376957\n",
      " 0.07165936 0.06359424 0.0626675  0.05808391 0.04809017 0.05703193\n",
      " 0.05783344 0.04566061 0.04889167 0.04553538 0.05705698 0.05838447\n",
      " 0.05983719 0.06675016 0.06654978 0.06993112 0.07288666 0.07105823\n",
      " 0.07120852 0.07772073 0.08583594 0.08939261 0.08771446 0.09297433\n",
      " 0.09790858 0.09056982 0.09380088 0.09665623 0.11015654 0.11937383\n",
      " 0.11243582 0.11974953 0.11291171 0.11028178 0.11063244 0.11774577\n",
      " 0.11611772 0.12145272 0.11739512 0.11448967 0.10429555 0.10537257\n",
      " 0.10659987 0.09986224 0.10289292 0.10161553 0.09635567 0.09785848\n",
      " 0.11068253 0.11769568 0.11211021 0.11529117 0.10958046 0.10434565\n",
      " 0.1092799  0.11458986 0.11559173 0.12275517 0.12062617 0.12663745\n",
      " 0.13134627 0.12234139 0.12450822 0.1263039  0.12779576 0.12908974\n",
      " 0.13027245 0.13140027 0.13250494 0.13360232]\n",
      "9 day output [[0.13469936]]\n",
      "10 day input [0.07020664 0.10026299 0.10735128 0.10379461 0.10820288 0.10507201\n",
      " 0.10990607 0.11133375 0.10311835 0.10855354 0.11078272 0.10336882\n",
      " 0.09362555 0.08598622 0.10316844 0.10386976 0.10261741 0.09966187\n",
      " 0.0903444  0.08541014 0.08969317 0.08846587 0.09430182 0.09675642\n",
      " 0.0910958  0.07428929 0.06930495 0.0639449  0.06376957 0.07165936\n",
      " 0.06359424 0.0626675  0.05808391 0.04809017 0.05703193 0.05783344\n",
      " 0.04566061 0.04889167 0.04553538 0.05705698 0.05838447 0.05983719\n",
      " 0.06675016 0.06654978 0.06993112 0.07288666 0.07105823 0.07120852\n",
      " 0.07772073 0.08583594 0.08939261 0.08771446 0.09297433 0.09790858\n",
      " 0.09056982 0.09380088 0.09665623 0.11015654 0.11937383 0.11243582\n",
      " 0.11974953 0.11291171 0.11028178 0.11063244 0.11774577 0.11611772\n",
      " 0.12145272 0.11739512 0.11448967 0.10429555 0.10537257 0.10659987\n",
      " 0.09986224 0.10289292 0.10161553 0.09635567 0.09785848 0.11068253\n",
      " 0.11769568 0.11211021 0.11529117 0.10958046 0.10434565 0.1092799\n",
      " 0.11458986 0.11559173 0.12275517 0.12062617 0.12663745 0.13134627\n",
      " 0.12234139 0.12450822 0.1263039  0.12779576 0.12908974 0.13027245\n",
      " 0.13140027 0.13250494 0.13360232 0.13469936]\n"
     ]
    },
    {
     "name": "stdout",
     "output_type": "stream",
     "text": [
      "10 day output [[0.13579865]]\n",
      "11 day input [0.10026299 0.10735128 0.10379461 0.10820288 0.10507201 0.10990607\n",
      " 0.11133375 0.10311835 0.10855354 0.11078272 0.10336882 0.09362555\n",
      " 0.08598622 0.10316844 0.10386976 0.10261741 0.09966187 0.0903444\n",
      " 0.08541014 0.08969317 0.08846587 0.09430182 0.09675642 0.0910958\n",
      " 0.07428929 0.06930495 0.0639449  0.06376957 0.07165936 0.06359424\n",
      " 0.0626675  0.05808391 0.04809017 0.05703193 0.05783344 0.04566061\n",
      " 0.04889167 0.04553538 0.05705698 0.05838447 0.05983719 0.06675016\n",
      " 0.06654978 0.06993112 0.07288666 0.07105823 0.07120852 0.07772073\n",
      " 0.08583594 0.08939261 0.08771446 0.09297433 0.09790858 0.09056982\n",
      " 0.09380088 0.09665623 0.11015654 0.11937383 0.11243582 0.11974953\n",
      " 0.11291171 0.11028178 0.11063244 0.11774577 0.11611772 0.12145272\n",
      " 0.11739512 0.11448967 0.10429555 0.10537257 0.10659987 0.09986224\n",
      " 0.10289292 0.10161553 0.09635567 0.09785848 0.11068253 0.11769568\n",
      " 0.11211021 0.11529117 0.10958046 0.10434565 0.1092799  0.11458986\n",
      " 0.11559173 0.12275517 0.12062617 0.12663745 0.13134627 0.12234139\n",
      " 0.12450822 0.1263039  0.12779576 0.12908974 0.13027245 0.13140027\n",
      " 0.13250494 0.13360232 0.13469936 0.13579865]\n",
      "11 day output [[0.1369009]]\n",
      "12 day input [0.10735128 0.10379461 0.10820288 0.10507201 0.10990607 0.11133375\n",
      " 0.10311835 0.10855354 0.11078272 0.10336882 0.09362555 0.08598622\n",
      " 0.10316844 0.10386976 0.10261741 0.09966187 0.0903444  0.08541014\n",
      " 0.08969317 0.08846587 0.09430182 0.09675642 0.0910958  0.07428929\n",
      " 0.06930495 0.0639449  0.06376957 0.07165936 0.06359424 0.0626675\n",
      " 0.05808391 0.04809017 0.05703193 0.05783344 0.04566061 0.04889167\n",
      " 0.04553538 0.05705698 0.05838447 0.05983719 0.06675016 0.06654978\n",
      " 0.06993112 0.07288666 0.07105823 0.07120852 0.07772073 0.08583594\n",
      " 0.08939261 0.08771446 0.09297433 0.09790858 0.09056982 0.09380088\n",
      " 0.09665623 0.11015654 0.11937383 0.11243582 0.11974953 0.11291171\n",
      " 0.11028178 0.11063244 0.11774577 0.11611772 0.12145272 0.11739512\n",
      " 0.11448967 0.10429555 0.10537257 0.10659987 0.09986224 0.10289292\n",
      " 0.10161553 0.09635567 0.09785848 0.11068253 0.11769568 0.11211021\n",
      " 0.11529117 0.10958046 0.10434565 0.1092799  0.11458986 0.11559173\n",
      " 0.12275517 0.12062617 0.12663745 0.13134627 0.12234139 0.12450822\n",
      " 0.1263039  0.12779576 0.12908974 0.13027245 0.13140027 0.13250494\n",
      " 0.13360232 0.13469936 0.13579865 0.1369009 ]\n",
      "12 day output [[0.13800623]]\n",
      "13 day input [0.10379461 0.10820288 0.10507201 0.10990607 0.11133375 0.10311835\n",
      " 0.10855354 0.11078272 0.10336882 0.09362555 0.08598622 0.10316844\n",
      " 0.10386976 0.10261741 0.09966187 0.0903444  0.08541014 0.08969317\n",
      " 0.08846587 0.09430182 0.09675642 0.0910958  0.07428929 0.06930495\n",
      " 0.0639449  0.06376957 0.07165936 0.06359424 0.0626675  0.05808391\n",
      " 0.04809017 0.05703193 0.05783344 0.04566061 0.04889167 0.04553538\n",
      " 0.05705698 0.05838447 0.05983719 0.06675016 0.06654978 0.06993112\n",
      " 0.07288666 0.07105823 0.07120852 0.07772073 0.08583594 0.08939261\n",
      " 0.08771446 0.09297433 0.09790858 0.09056982 0.09380088 0.09665623\n",
      " 0.11015654 0.11937383 0.11243582 0.11974953 0.11291171 0.11028178\n",
      " 0.11063244 0.11774577 0.11611772 0.12145272 0.11739512 0.11448967\n",
      " 0.10429555 0.10537257 0.10659987 0.09986224 0.10289292 0.10161553\n",
      " 0.09635567 0.09785848 0.11068253 0.11769568 0.11211021 0.11529117\n",
      " 0.10958046 0.10434565 0.1092799  0.11458986 0.11559173 0.12275517\n",
      " 0.12062617 0.12663745 0.13134627 0.12234139 0.12450822 0.1263039\n",
      " 0.12779576 0.12908974 0.13027245 0.13140027 0.13250494 0.13360232\n",
      " 0.13469936 0.13579865 0.1369009  0.13800623]\n",
      "13 day output [[0.13911466]]\n",
      "14 day input [0.10820288 0.10507201 0.10990607 0.11133375 0.10311835 0.10855354\n",
      " 0.11078272 0.10336882 0.09362555 0.08598622 0.10316844 0.10386976\n",
      " 0.10261741 0.09966187 0.0903444  0.08541014 0.08969317 0.08846587\n",
      " 0.09430182 0.09675642 0.0910958  0.07428929 0.06930495 0.0639449\n",
      " 0.06376957 0.07165936 0.06359424 0.0626675  0.05808391 0.04809017\n",
      " 0.05703193 0.05783344 0.04566061 0.04889167 0.04553538 0.05705698\n",
      " 0.05838447 0.05983719 0.06675016 0.06654978 0.06993112 0.07288666\n",
      " 0.07105823 0.07120852 0.07772073 0.08583594 0.08939261 0.08771446\n",
      " 0.09297433 0.09790858 0.09056982 0.09380088 0.09665623 0.11015654\n",
      " 0.11937383 0.11243582 0.11974953 0.11291171 0.11028178 0.11063244\n",
      " 0.11774577 0.11611772 0.12145272 0.11739512 0.11448967 0.10429555\n",
      " 0.10537257 0.10659987 0.09986224 0.10289292 0.10161553 0.09635567\n",
      " 0.09785848 0.11068253 0.11769568 0.11211021 0.11529117 0.10958046\n",
      " 0.10434565 0.1092799  0.11458986 0.11559173 0.12275517 0.12062617\n",
      " 0.12663745 0.13134627 0.12234139 0.12450822 0.1263039  0.12779576\n",
      " 0.12908974 0.13027245 0.13140027 0.13250494 0.13360232 0.13469936\n",
      " 0.13579865 0.1369009  0.13800623 0.13911466]\n",
      "14 day output [[0.14022626]]\n",
      "15 day input [0.10507201 0.10990607 0.11133375 0.10311835 0.10855354 0.11078272\n",
      " 0.10336882 0.09362555 0.08598622 0.10316844 0.10386976 0.10261741\n",
      " 0.09966187 0.0903444  0.08541014 0.08969317 0.08846587 0.09430182\n",
      " 0.09675642 0.0910958  0.07428929 0.06930495 0.0639449  0.06376957\n",
      " 0.07165936 0.06359424 0.0626675  0.05808391 0.04809017 0.05703193\n",
      " 0.05783344 0.04566061 0.04889167 0.04553538 0.05705698 0.05838447\n",
      " 0.05983719 0.06675016 0.06654978 0.06993112 0.07288666 0.07105823\n",
      " 0.07120852 0.07772073 0.08583594 0.08939261 0.08771446 0.09297433\n",
      " 0.09790858 0.09056982 0.09380088 0.09665623 0.11015654 0.11937383\n",
      " 0.11243582 0.11974953 0.11291171 0.11028178 0.11063244 0.11774577\n",
      " 0.11611772 0.12145272 0.11739512 0.11448967 0.10429555 0.10537257\n",
      " 0.10659987 0.09986224 0.10289292 0.10161553 0.09635567 0.09785848\n",
      " 0.11068253 0.11769568 0.11211021 0.11529117 0.10958046 0.10434565\n",
      " 0.1092799  0.11458986 0.11559173 0.12275517 0.12062617 0.12663745\n",
      " 0.13134627 0.12234139 0.12450822 0.1263039  0.12779576 0.12908974\n",
      " 0.13027245 0.13140027 0.13250494 0.13360232 0.13469936 0.13579865\n",
      " 0.1369009  0.13800623 0.13911466 0.14022626]\n",
      "15 day output [[0.14134116]]\n",
      "16 day input [0.10990607 0.11133375 0.10311835 0.10855354 0.11078272 0.10336882\n",
      " 0.09362555 0.08598622 0.10316844 0.10386976 0.10261741 0.09966187\n",
      " 0.0903444  0.08541014 0.08969317 0.08846587 0.09430182 0.09675642\n",
      " 0.0910958  0.07428929 0.06930495 0.0639449  0.06376957 0.07165936\n",
      " 0.06359424 0.0626675  0.05808391 0.04809017 0.05703193 0.05783344\n",
      " 0.04566061 0.04889167 0.04553538 0.05705698 0.05838447 0.05983719\n",
      " 0.06675016 0.06654978 0.06993112 0.07288666 0.07105823 0.07120852\n",
      " 0.07772073 0.08583594 0.08939261 0.08771446 0.09297433 0.09790858\n",
      " 0.09056982 0.09380088 0.09665623 0.11015654 0.11937383 0.11243582\n",
      " 0.11974953 0.11291171 0.11028178 0.11063244 0.11774577 0.11611772\n",
      " 0.12145272 0.11739512 0.11448967 0.10429555 0.10537257 0.10659987\n",
      " 0.09986224 0.10289292 0.10161553 0.09635567 0.09785848 0.11068253\n",
      " 0.11769568 0.11211021 0.11529117 0.10958046 0.10434565 0.1092799\n",
      " 0.11458986 0.11559173 0.12275517 0.12062617 0.12663745 0.13134627\n",
      " 0.12234139 0.12450822 0.1263039  0.12779576 0.12908974 0.13027245\n",
      " 0.13140027 0.13250494 0.13360232 0.13469936 0.13579865 0.1369009\n",
      " 0.13800623 0.13911466 0.14022626 0.14134116]\n",
      "16 day output [[0.14245957]]\n",
      "17 day input [0.11133375 0.10311835 0.10855354 0.11078272 0.10336882 0.09362555\n",
      " 0.08598622 0.10316844 0.10386976 0.10261741 0.09966187 0.0903444\n",
      " 0.08541014 0.08969317 0.08846587 0.09430182 0.09675642 0.0910958\n",
      " 0.07428929 0.06930495 0.0639449  0.06376957 0.07165936 0.06359424\n",
      " 0.0626675  0.05808391 0.04809017 0.05703193 0.05783344 0.04566061\n",
      " 0.04889167 0.04553538 0.05705698 0.05838447 0.05983719 0.06675016\n",
      " 0.06654978 0.06993112 0.07288666 0.07105823 0.07120852 0.07772073\n",
      " 0.08583594 0.08939261 0.08771446 0.09297433 0.09790858 0.09056982\n",
      " 0.09380088 0.09665623 0.11015654 0.11937383 0.11243582 0.11974953\n",
      " 0.11291171 0.11028178 0.11063244 0.11774577 0.11611772 0.12145272\n",
      " 0.11739512 0.11448967 0.10429555 0.10537257 0.10659987 0.09986224\n",
      " 0.10289292 0.10161553 0.09635567 0.09785848 0.11068253 0.11769568\n",
      " 0.11211021 0.11529117 0.10958046 0.10434565 0.1092799  0.11458986\n",
      " 0.11559173 0.12275517 0.12062617 0.12663745 0.13134627 0.12234139\n",
      " 0.12450822 0.1263039  0.12779576 0.12908974 0.13027245 0.13140027\n",
      " 0.13250494 0.13360232 0.13469936 0.13579865 0.1369009  0.13800623\n",
      " 0.13911466 0.14022626 0.14134116 0.14245957]\n",
      "17 day output [[0.14358163]]\n",
      "18 day input [0.10311835 0.10855354 0.11078272 0.10336882 0.09362555 0.08598622\n",
      " 0.10316844 0.10386976 0.10261741 0.09966187 0.0903444  0.08541014\n",
      " 0.08969317 0.08846587 0.09430182 0.09675642 0.0910958  0.07428929\n",
      " 0.06930495 0.0639449  0.06376957 0.07165936 0.06359424 0.0626675\n",
      " 0.05808391 0.04809017 0.05703193 0.05783344 0.04566061 0.04889167\n",
      " 0.04553538 0.05705698 0.05838447 0.05983719 0.06675016 0.06654978\n",
      " 0.06993112 0.07288666 0.07105823 0.07120852 0.07772073 0.08583594\n",
      " 0.08939261 0.08771446 0.09297433 0.09790858 0.09056982 0.09380088\n",
      " 0.09665623 0.11015654 0.11937383 0.11243582 0.11974953 0.11291171\n",
      " 0.11028178 0.11063244 0.11774577 0.11611772 0.12145272 0.11739512\n",
      " 0.11448967 0.10429555 0.10537257 0.10659987 0.09986224 0.10289292\n",
      " 0.10161553 0.09635567 0.09785848 0.11068253 0.11769568 0.11211021\n",
      " 0.11529117 0.10958046 0.10434565 0.1092799  0.11458986 0.11559173\n",
      " 0.12275517 0.12062617 0.12663745 0.13134627 0.12234139 0.12450822\n",
      " 0.1263039  0.12779576 0.12908974 0.13027245 0.13140027 0.13250494\n",
      " 0.13360232 0.13469936 0.13579865 0.1369009  0.13800623 0.13911466\n",
      " 0.14022626 0.14134116 0.14245957 0.14358163]\n",
      "18 day output [[0.14470759]]\n",
      "19 day input [0.10855354 0.11078272 0.10336882 0.09362555 0.08598622 0.10316844\n",
      " 0.10386976 0.10261741 0.09966187 0.0903444  0.08541014 0.08969317\n",
      " 0.08846587 0.09430182 0.09675642 0.0910958  0.07428929 0.06930495\n",
      " 0.0639449  0.06376957 0.07165936 0.06359424 0.0626675  0.05808391\n",
      " 0.04809017 0.05703193 0.05783344 0.04566061 0.04889167 0.04553538\n",
      " 0.05705698 0.05838447 0.05983719 0.06675016 0.06654978 0.06993112\n",
      " 0.07288666 0.07105823 0.07120852 0.07772073 0.08583594 0.08939261\n",
      " 0.08771446 0.09297433 0.09790858 0.09056982 0.09380088 0.09665623\n",
      " 0.11015654 0.11937383 0.11243582 0.11974953 0.11291171 0.11028178\n",
      " 0.11063244 0.11774577 0.11611772 0.12145272 0.11739512 0.11448967\n",
      " 0.10429555 0.10537257 0.10659987 0.09986224 0.10289292 0.10161553\n",
      " 0.09635567 0.09785848 0.11068253 0.11769568 0.11211021 0.11529117\n",
      " 0.10958046 0.10434565 0.1092799  0.11458986 0.11559173 0.12275517\n",
      " 0.12062617 0.12663745 0.13134627 0.12234139 0.12450822 0.1263039\n",
      " 0.12779576 0.12908974 0.13027245 0.13140027 0.13250494 0.13360232\n",
      " 0.13469936 0.13579865 0.1369009  0.13800623 0.13911466 0.14022626\n",
      " 0.14134116 0.14245957 0.14358163 0.14470759]\n",
      "19 day output [[0.14583756]]\n",
      "20 day input [0.11078272 0.10336882 0.09362555 0.08598622 0.10316844 0.10386976\n",
      " 0.10261741 0.09966187 0.0903444  0.08541014 0.08969317 0.08846587\n",
      " 0.09430182 0.09675642 0.0910958  0.07428929 0.06930495 0.0639449\n",
      " 0.06376957 0.07165936 0.06359424 0.0626675  0.05808391 0.04809017\n",
      " 0.05703193 0.05783344 0.04566061 0.04889167 0.04553538 0.05705698\n",
      " 0.05838447 0.05983719 0.06675016 0.06654978 0.06993112 0.07288666\n",
      " 0.07105823 0.07120852 0.07772073 0.08583594 0.08939261 0.08771446\n",
      " 0.09297433 0.09790858 0.09056982 0.09380088 0.09665623 0.11015654\n",
      " 0.11937383 0.11243582 0.11974953 0.11291171 0.11028178 0.11063244\n",
      " 0.11774577 0.11611772 0.12145272 0.11739512 0.11448967 0.10429555\n",
      " 0.10537257 0.10659987 0.09986224 0.10289292 0.10161553 0.09635567\n",
      " 0.09785848 0.11068253 0.11769568 0.11211021 0.11529117 0.10958046\n",
      " 0.10434565 0.1092799  0.11458986 0.11559173 0.12275517 0.12062617\n",
      " 0.12663745 0.13134627 0.12234139 0.12450822 0.1263039  0.12779576\n",
      " 0.12908974 0.13027245 0.13140027 0.13250494 0.13360232 0.13469936\n",
      " 0.13579865 0.1369009  0.13800623 0.13911466 0.14022626 0.14134116\n",
      " 0.14245957 0.14358163 0.14470759 0.14583756]\n"
     ]
    },
    {
     "name": "stdout",
     "output_type": "stream",
     "text": [
      "20 day output [[0.1469718]]\n",
      "21 day input [0.10336882 0.09362555 0.08598622 0.10316844 0.10386976 0.10261741\n",
      " 0.09966187 0.0903444  0.08541014 0.08969317 0.08846587 0.09430182\n",
      " 0.09675642 0.0910958  0.07428929 0.06930495 0.0639449  0.06376957\n",
      " 0.07165936 0.06359424 0.0626675  0.05808391 0.04809017 0.05703193\n",
      " 0.05783344 0.04566061 0.04889167 0.04553538 0.05705698 0.05838447\n",
      " 0.05983719 0.06675016 0.06654978 0.06993112 0.07288666 0.07105823\n",
      " 0.07120852 0.07772073 0.08583594 0.08939261 0.08771446 0.09297433\n",
      " 0.09790858 0.09056982 0.09380088 0.09665623 0.11015654 0.11937383\n",
      " 0.11243582 0.11974953 0.11291171 0.11028178 0.11063244 0.11774577\n",
      " 0.11611772 0.12145272 0.11739512 0.11448967 0.10429555 0.10537257\n",
      " 0.10659987 0.09986224 0.10289292 0.10161553 0.09635567 0.09785848\n",
      " 0.11068253 0.11769568 0.11211021 0.11529117 0.10958046 0.10434565\n",
      " 0.1092799  0.11458986 0.11559173 0.12275517 0.12062617 0.12663745\n",
      " 0.13134627 0.12234139 0.12450822 0.1263039  0.12779576 0.12908974\n",
      " 0.13027245 0.13140027 0.13250494 0.13360232 0.13469936 0.13579865\n",
      " 0.1369009  0.13800623 0.13911466 0.14022626 0.14134116 0.14245957\n",
      " 0.14358163 0.14470759 0.14583756 0.14697181]\n",
      "21 day output [[0.1481104]]\n",
      "22 day input [0.09362555 0.08598622 0.10316844 0.10386976 0.10261741 0.09966187\n",
      " 0.0903444  0.08541014 0.08969317 0.08846587 0.09430182 0.09675642\n",
      " 0.0910958  0.07428929 0.06930495 0.0639449  0.06376957 0.07165936\n",
      " 0.06359424 0.0626675  0.05808391 0.04809017 0.05703193 0.05783344\n",
      " 0.04566061 0.04889167 0.04553538 0.05705698 0.05838447 0.05983719\n",
      " 0.06675016 0.06654978 0.06993112 0.07288666 0.07105823 0.07120852\n",
      " 0.07772073 0.08583594 0.08939261 0.08771446 0.09297433 0.09790858\n",
      " 0.09056982 0.09380088 0.09665623 0.11015654 0.11937383 0.11243582\n",
      " 0.11974953 0.11291171 0.11028178 0.11063244 0.11774577 0.11611772\n",
      " 0.12145272 0.11739512 0.11448967 0.10429555 0.10537257 0.10659987\n",
      " 0.09986224 0.10289292 0.10161553 0.09635567 0.09785848 0.11068253\n",
      " 0.11769568 0.11211021 0.11529117 0.10958046 0.10434565 0.1092799\n",
      " 0.11458986 0.11559173 0.12275517 0.12062617 0.12663745 0.13134627\n",
      " 0.12234139 0.12450822 0.1263039  0.12779576 0.12908974 0.13027245\n",
      " 0.13140027 0.13250494 0.13360232 0.13469936 0.13579865 0.1369009\n",
      " 0.13800623 0.13911466 0.14022626 0.14134116 0.14245957 0.14358163\n",
      " 0.14470759 0.14583756 0.14697181 0.1481104 ]\n",
      "22 day output [[0.14925349]]\n",
      "23 day input [0.08598622 0.10316844 0.10386976 0.10261741 0.09966187 0.0903444\n",
      " 0.08541014 0.08969317 0.08846587 0.09430182 0.09675642 0.0910958\n",
      " 0.07428929 0.06930495 0.0639449  0.06376957 0.07165936 0.06359424\n",
      " 0.0626675  0.05808391 0.04809017 0.05703193 0.05783344 0.04566061\n",
      " 0.04889167 0.04553538 0.05705698 0.05838447 0.05983719 0.06675016\n",
      " 0.06654978 0.06993112 0.07288666 0.07105823 0.07120852 0.07772073\n",
      " 0.08583594 0.08939261 0.08771446 0.09297433 0.09790858 0.09056982\n",
      " 0.09380088 0.09665623 0.11015654 0.11937383 0.11243582 0.11974953\n",
      " 0.11291171 0.11028178 0.11063244 0.11774577 0.11611772 0.12145272\n",
      " 0.11739512 0.11448967 0.10429555 0.10537257 0.10659987 0.09986224\n",
      " 0.10289292 0.10161553 0.09635567 0.09785848 0.11068253 0.11769568\n",
      " 0.11211021 0.11529117 0.10958046 0.10434565 0.1092799  0.11458986\n",
      " 0.11559173 0.12275517 0.12062617 0.12663745 0.13134627 0.12234139\n",
      " 0.12450822 0.1263039  0.12779576 0.12908974 0.13027245 0.13140027\n",
      " 0.13250494 0.13360232 0.13469936 0.13579865 0.1369009  0.13800623\n",
      " 0.13911466 0.14022626 0.14134116 0.14245957 0.14358163 0.14470759\n",
      " 0.14583756 0.14697181 0.1481104  0.14925349]\n",
      "23 day output [[0.15040118]]\n",
      "24 day input [0.10316844 0.10386976 0.10261741 0.09966187 0.0903444  0.08541014\n",
      " 0.08969317 0.08846587 0.09430182 0.09675642 0.0910958  0.07428929\n",
      " 0.06930495 0.0639449  0.06376957 0.07165936 0.06359424 0.0626675\n",
      " 0.05808391 0.04809017 0.05703193 0.05783344 0.04566061 0.04889167\n",
      " 0.04553538 0.05705698 0.05838447 0.05983719 0.06675016 0.06654978\n",
      " 0.06993112 0.07288666 0.07105823 0.07120852 0.07772073 0.08583594\n",
      " 0.08939261 0.08771446 0.09297433 0.09790858 0.09056982 0.09380088\n",
      " 0.09665623 0.11015654 0.11937383 0.11243582 0.11974953 0.11291171\n",
      " 0.11028178 0.11063244 0.11774577 0.11611772 0.12145272 0.11739512\n",
      " 0.11448967 0.10429555 0.10537257 0.10659987 0.09986224 0.10289292\n",
      " 0.10161553 0.09635567 0.09785848 0.11068253 0.11769568 0.11211021\n",
      " 0.11529117 0.10958046 0.10434565 0.1092799  0.11458986 0.11559173\n",
      " 0.12275517 0.12062617 0.12663745 0.13134627 0.12234139 0.12450822\n",
      " 0.1263039  0.12779576 0.12908974 0.13027245 0.13140027 0.13250494\n",
      " 0.13360232 0.13469936 0.13579865 0.1369009  0.13800623 0.13911466\n",
      " 0.14022626 0.14134116 0.14245957 0.14358163 0.14470759 0.14583756\n",
      " 0.14697181 0.1481104  0.14925349 0.15040118]\n",
      "24 day output [[0.15155366]]\n",
      "25 day input [0.10386976 0.10261741 0.09966187 0.0903444  0.08541014 0.08969317\n",
      " 0.08846587 0.09430182 0.09675642 0.0910958  0.07428929 0.06930495\n",
      " 0.0639449  0.06376957 0.07165936 0.06359424 0.0626675  0.05808391\n",
      " 0.04809017 0.05703193 0.05783344 0.04566061 0.04889167 0.04553538\n",
      " 0.05705698 0.05838447 0.05983719 0.06675016 0.06654978 0.06993112\n",
      " 0.07288666 0.07105823 0.07120852 0.07772073 0.08583594 0.08939261\n",
      " 0.08771446 0.09297433 0.09790858 0.09056982 0.09380088 0.09665623\n",
      " 0.11015654 0.11937383 0.11243582 0.11974953 0.11291171 0.11028178\n",
      " 0.11063244 0.11774577 0.11611772 0.12145272 0.11739512 0.11448967\n",
      " 0.10429555 0.10537257 0.10659987 0.09986224 0.10289292 0.10161553\n",
      " 0.09635567 0.09785848 0.11068253 0.11769568 0.11211021 0.11529117\n",
      " 0.10958046 0.10434565 0.1092799  0.11458986 0.11559173 0.12275517\n",
      " 0.12062617 0.12663745 0.13134627 0.12234139 0.12450822 0.1263039\n",
      " 0.12779576 0.12908974 0.13027245 0.13140027 0.13250494 0.13360232\n",
      " 0.13469936 0.13579865 0.1369009  0.13800623 0.13911466 0.14022626\n",
      " 0.14134116 0.14245957 0.14358163 0.14470759 0.14583756 0.14697181\n",
      " 0.1481104  0.14925349 0.15040118 0.15155366]\n",
      "25 day output [[0.1527109]]\n",
      "26 day input [0.10261741 0.09966187 0.0903444  0.08541014 0.08969317 0.08846587\n",
      " 0.09430182 0.09675642 0.0910958  0.07428929 0.06930495 0.0639449\n",
      " 0.06376957 0.07165936 0.06359424 0.0626675  0.05808391 0.04809017\n",
      " 0.05703193 0.05783344 0.04566061 0.04889167 0.04553538 0.05705698\n",
      " 0.05838447 0.05983719 0.06675016 0.06654978 0.06993112 0.07288666\n",
      " 0.07105823 0.07120852 0.07772073 0.08583594 0.08939261 0.08771446\n",
      " 0.09297433 0.09790858 0.09056982 0.09380088 0.09665623 0.11015654\n",
      " 0.11937383 0.11243582 0.11974953 0.11291171 0.11028178 0.11063244\n",
      " 0.11774577 0.11611772 0.12145272 0.11739512 0.11448967 0.10429555\n",
      " 0.10537257 0.10659987 0.09986224 0.10289292 0.10161553 0.09635567\n",
      " 0.09785848 0.11068253 0.11769568 0.11211021 0.11529117 0.10958046\n",
      " 0.10434565 0.1092799  0.11458986 0.11559173 0.12275517 0.12062617\n",
      " 0.12663745 0.13134627 0.12234139 0.12450822 0.1263039  0.12779576\n",
      " 0.12908974 0.13027245 0.13140027 0.13250494 0.13360232 0.13469936\n",
      " 0.13579865 0.1369009  0.13800623 0.13911466 0.14022626 0.14134116\n",
      " 0.14245957 0.14358163 0.14470759 0.14583756 0.14697181 0.1481104\n",
      " 0.14925349 0.15040118 0.15155366 0.1527109 ]\n",
      "26 day output [[0.15387313]]\n",
      "27 day input [0.09966187 0.0903444  0.08541014 0.08969317 0.08846587 0.09430182\n",
      " 0.09675642 0.0910958  0.07428929 0.06930495 0.0639449  0.06376957\n",
      " 0.07165936 0.06359424 0.0626675  0.05808391 0.04809017 0.05703193\n",
      " 0.05783344 0.04566061 0.04889167 0.04553538 0.05705698 0.05838447\n",
      " 0.05983719 0.06675016 0.06654978 0.06993112 0.07288666 0.07105823\n",
      " 0.07120852 0.07772073 0.08583594 0.08939261 0.08771446 0.09297433\n",
      " 0.09790858 0.09056982 0.09380088 0.09665623 0.11015654 0.11937383\n",
      " 0.11243582 0.11974953 0.11291171 0.11028178 0.11063244 0.11774577\n",
      " 0.11611772 0.12145272 0.11739512 0.11448967 0.10429555 0.10537257\n",
      " 0.10659987 0.09986224 0.10289292 0.10161553 0.09635567 0.09785848\n",
      " 0.11068253 0.11769568 0.11211021 0.11529117 0.10958046 0.10434565\n",
      " 0.1092799  0.11458986 0.11559173 0.12275517 0.12062617 0.12663745\n",
      " 0.13134627 0.12234139 0.12450822 0.1263039  0.12779576 0.12908974\n",
      " 0.13027245 0.13140027 0.13250494 0.13360232 0.13469936 0.13579865\n",
      " 0.1369009  0.13800623 0.13911466 0.14022626 0.14134116 0.14245957\n",
      " 0.14358163 0.14470759 0.14583756 0.14697181 0.1481104  0.14925349\n",
      " 0.15040118 0.15155366 0.1527109  0.15387313]\n",
      "27 day output [[0.15504041]]\n",
      "28 day input [0.0903444  0.08541014 0.08969317 0.08846587 0.09430182 0.09675642\n",
      " 0.0910958  0.07428929 0.06930495 0.0639449  0.06376957 0.07165936\n",
      " 0.06359424 0.0626675  0.05808391 0.04809017 0.05703193 0.05783344\n",
      " 0.04566061 0.04889167 0.04553538 0.05705698 0.05838447 0.05983719\n",
      " 0.06675016 0.06654978 0.06993112 0.07288666 0.07105823 0.07120852\n",
      " 0.07772073 0.08583594 0.08939261 0.08771446 0.09297433 0.09790858\n",
      " 0.09056982 0.09380088 0.09665623 0.11015654 0.11937383 0.11243582\n",
      " 0.11974953 0.11291171 0.11028178 0.11063244 0.11774577 0.11611772\n",
      " 0.12145272 0.11739512 0.11448967 0.10429555 0.10537257 0.10659987\n",
      " 0.09986224 0.10289292 0.10161553 0.09635567 0.09785848 0.11068253\n",
      " 0.11769568 0.11211021 0.11529117 0.10958046 0.10434565 0.1092799\n",
      " 0.11458986 0.11559173 0.12275517 0.12062617 0.12663745 0.13134627\n",
      " 0.12234139 0.12450822 0.1263039  0.12779576 0.12908974 0.13027245\n",
      " 0.13140027 0.13250494 0.13360232 0.13469936 0.13579865 0.1369009\n",
      " 0.13800623 0.13911466 0.14022626 0.14134116 0.14245957 0.14358163\n",
      " 0.14470759 0.14583756 0.14697181 0.1481104  0.14925349 0.15040118\n",
      " 0.15155366 0.1527109  0.15387313 0.15504041]\n",
      "28 day output [[0.15621282]]\n",
      "29 day input [0.08541014 0.08969317 0.08846587 0.09430182 0.09675642 0.0910958\n",
      " 0.07428929 0.06930495 0.0639449  0.06376957 0.07165936 0.06359424\n",
      " 0.0626675  0.05808391 0.04809017 0.05703193 0.05783344 0.04566061\n",
      " 0.04889167 0.04553538 0.05705698 0.05838447 0.05983719 0.06675016\n",
      " 0.06654978 0.06993112 0.07288666 0.07105823 0.07120852 0.07772073\n",
      " 0.08583594 0.08939261 0.08771446 0.09297433 0.09790858 0.09056982\n",
      " 0.09380088 0.09665623 0.11015654 0.11937383 0.11243582 0.11974953\n",
      " 0.11291171 0.11028178 0.11063244 0.11774577 0.11611772 0.12145272\n",
      " 0.11739512 0.11448967 0.10429555 0.10537257 0.10659987 0.09986224\n",
      " 0.10289292 0.10161553 0.09635567 0.09785848 0.11068253 0.11769568\n",
      " 0.11211021 0.11529117 0.10958046 0.10434565 0.1092799  0.11458986\n",
      " 0.11559173 0.12275517 0.12062617 0.12663745 0.13134627 0.12234139\n",
      " 0.12450822 0.1263039  0.12779576 0.12908974 0.13027245 0.13140027\n",
      " 0.13250494 0.13360232 0.13469936 0.13579865 0.1369009  0.13800623\n",
      " 0.13911466 0.14022626 0.14134116 0.14245957 0.14358163 0.14470759\n",
      " 0.14583756 0.14697181 0.1481104  0.14925349 0.15040118 0.15155366\n",
      " 0.1527109  0.15387313 0.15504041 0.15621282]\n"
     ]
    },
    {
     "name": "stdout",
     "output_type": "stream",
     "text": [
      "29 day output [[0.15739049]]\n",
      "[[0.12234139442443848], [0.12450821697711945], [0.12630389630794525], [0.1277957558631897], [0.12908974289894104], [0.13027244806289673], [0.13140027225017548], [0.13250494003295898], [0.1336023211479187], [0.13469935953617096], [0.1357986479997635], [0.1369009017944336], [0.13800622522830963], [0.13911466300487518], [0.14022625982761383], [0.1413411647081375], [0.14245957136154175], [0.14358162879943848], [0.144707590341568], [0.14583756029605865], [0.14697180688381195], [0.14811040461063385], [0.1492534875869751], [0.15040117502212524], [0.1515536606311798], [0.1527108997106552], [0.15387313067913055], [0.1550404131412506], [0.15621282160282135], [0.15739049017429352]]\n"
     ]
    }
   ],
   "source": [
    "# demonstrate prediction for next 10 days\n",
    "from numpy import array\n",
    "\n",
    "lst_output=[]\n",
    "n_steps=100\n",
    "i=0\n",
    "while(i<30):\n",
    "    \n",
    "    if(len(temp_input)>100):\n",
    "        #print(temp_input)\n",
    "        x_input=np.array(temp_input[1:])\n",
    "        print(\"{} day input {}\".format(i,x_input))\n",
    "        x_input=x_input.reshape(1,-1)\n",
    "        x_input = x_input.reshape((1, n_steps, 1))\n",
    "        #print(x_input)\n",
    "        yhat = model.predict(x_input, verbose=0)\n",
    "        print(\"{} day output {}\".format(i,yhat))\n",
    "        temp_input.extend(yhat[0].tolist())\n",
    "        temp_input=temp_input[1:]\n",
    "        #print(temp_input)\n",
    "        lst_output.extend(yhat.tolist())\n",
    "        i=i+1\n",
    "    else:\n",
    "        x_input = x_input.reshape((1, n_steps,1))\n",
    "        yhat = model.predict(x_input, verbose=0)\n",
    "        print(yhat[0])\n",
    "        temp_input.extend(yhat[0].tolist())\n",
    "        print(len(temp_input))\n",
    "        lst_output.extend(yhat.tolist())\n",
    "        i=i+1\n",
    "    \n",
    "\n",
    "print(lst_output)"
   ]
  },
  {
   "cell_type": "code",
   "execution_count": 40,
   "id": "a2305b11",
   "metadata": {},
   "outputs": [],
   "source": [
    "day_new=np.arange(1,101)\n",
    "day_pred=np.arange(101,131)"
   ]
  },
  {
   "cell_type": "code",
   "execution_count": 41,
   "id": "60ce183a",
   "metadata": {},
   "outputs": [],
   "source": [
    "import matplotlib.pyplot as plt"
   ]
  },
  {
   "cell_type": "code",
   "execution_count": 42,
   "id": "fa584582",
   "metadata": {},
   "outputs": [
    {
     "data": {
      "text/plain": [
       "1256"
      ]
     },
     "execution_count": 42,
     "metadata": {},
     "output_type": "execute_result"
    }
   ],
   "source": [
    "len(df1)"
   ]
  },
  {
   "cell_type": "code",
   "execution_count": 43,
   "id": "705bdb13",
   "metadata": {},
   "outputs": [
    {
     "data": {
      "text/plain": [
       "[<matplotlib.lines.Line2D at 0x282d15c0550>]"
      ]
     },
     "execution_count": 43,
     "metadata": {},
     "output_type": "execute_result"
    },
    {
     "data": {
      "image/png": "[encoded data removed]",
      "text/plain": [
       "<Figure size 432x288 with 1 Axes>"
      ]
     },
     "metadata": {
      "needs_background": "light"
     },
     "output_type": "display_data"
    }
   ],
   "source": [
    "plt.plot(day_new,scaler.inverse_transform(df1[1156:]))\n",
    "plt.plot(day_pred,scaler.inverse_transform(lst_output))"
   ]
  },
  {
   "cell_type": "code",
   "execution_count": 44,
   "id": "beabeb56",
   "metadata": {},
   "outputs": [
    {
     "data": {
      "text/plain": [
       "[<matplotlib.lines.Line2D at 0x282d15c3460>]"
      ]
     },
     "execution_count": 44,
     "metadata": {},
     "output_type": "execute_result"
    },
    {
     "data": {
      "image/png": "[encoded data removed]",
      "text/plain": [
       "<Figure size 432x288 with 1 Axes>"
      ]
     },
     "metadata": {
      "needs_background": "light"
     },
     "output_type": "display_data"
    }
   ],
   "source": [
    "df3=df1.tolist()\n",
    "df3.extend(lst_output)\n",
    "plt.plot(df3[1200:])"
   ]
  },
  {
   "cell_type": "code",
   "execution_count": 45,
   "id": "2c13e0a1",
   "metadata": {},
   "outputs": [],
   "source": [
    "df3=scaler.inverse_transform(df3).tolist()"
   ]
  },
  {
   "cell_type": "code",
   "execution_count": 46,
   "id": "4e5f1393",
   "metadata": {},
   "outputs": [
    {
     "data": {
      "text/plain": [
       "[<matplotlib.lines.Line2D at 0x282d16629a0>]"
      ]
     },
     "execution_count": 46,
     "metadata": {},
     "output_type": "execute_result"
    },
    {
     "data": {
      "image/png": "[encoded data removed]",
      "text/plain": [
       "<Figure size 432x288 with 1 Axes>"
      ]
     },
     "metadata": {
      "needs_background": "light"
     },
     "output_type": "display_data"
    }
   ],
   "source": [
    "plt.plot(df3)"
   ]
  },
  {
   "cell_type": "code",
   "execution_count": null,
   "id": "0b64f5bd",
   "metadata": {},
   "outputs": [],
   "source": []
  }
 ],
 "metadata": {
  "kernelspec": {
   "display_name": "Python 3",
   "language": "python",
   "name": "python3"
  },
  "language_info": {
   "codemirror_mode": {
    "name": "ipython",
    "version": 3
   },
   "file_extension": ".py",
   "mimetype": "text/x-python",
   "name": "python",
   "nbconvert_exporter": "python",
   "pygments_lexer": "ipython3",
   "version": "3.8.8"
  }
 },
 "nbformat": 4,
 "nbformat_minor": 5
}
